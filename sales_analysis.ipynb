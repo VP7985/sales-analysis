
{
 "cells": [
  {
   "cell_type": "markdown",
   "metadata": {},
   "source": [
    "# Sales Data Analysis\n",
    "\n",
    "This notebook analyzes sales data using Pandas and visualizes it with Matplotlib. The data is loaded from `sales_data.csv` and includes charts for total sales by region, sales distribution by product, and average profit by category.\n",
    "\n",
    "**Requirements:**\n",
    "- `sales_data.csv` must be in the same directory.\n",
    "- Install dependencies: `pip install pandas matplotlib`."
   ]
  },
  {
   "cell_type": "code",
   "execution_count": null,
   "metadata": {},
   "outputs": [],
   "source": [
    "import pandas as pd\n",
    "import matplotlib.pyplot as plt\n",
    "\n",
    "# Load CSV file\n",
    "sales_data = pd.read_csv('sales_data.csv')\n",
    "\n",
    "# Display the first few rows of the dataset\n",
    "sales_data.head()"
   ]
  },
  {
   "cell_type": "code",
   "execution_count": null,
   "metadata": {},
   "outputs": [],
   "source": [
    "# Group by Region and sum the Sales\n",
    "sales_summary = sales_data.groupby('Region')['Sales'].sum()\n",
    "\n",
    "# Plot the total sales by Region\n",
    "sales_summary.plot(kind='bar', color='skyblue')\n",
    "plt.title('Total Sales by Region')\n",
    "plt.xlabel('Region')\n",
    "plt.ylabel('Total Sales ($)')\n",
    "plt.xticks(rotation=0)\n",
    "plt.show()"
   ]
  },
  {
   "cell_type": "code",
   "execution_count": null,
   "metadata": {},
   "outputs": [],
   "source": [
    "# Group by Product and sum the Sales\n",
    "product_summary = sales_data.groupby('Product')['Sales'].sum()\n",
    "\n",
    "# Plot the total sales by Product\n",
    "product_summary.plot(kind='pie', autopct='%1.1f%%', startangle=90)\n",
    "plt.title('Sales Distribution by Product')\n",
    "plt.ylabel('')  # Hide y-label for pie chart\n",
    "plt.show()"
   ]
  },
  {
   "cell_type": "code",
   "execution_count": null,
   "metadata": {},
   "outputs": [],
   "source": [
    "# Calculate and plot average profit by Category\n",
    "category_profit = sales_data.groupby('Category')['Profit'].mean()\n",
    "category_profit.plot(kind='bar', color='lightgreen')\n",
    "plt.title('Average Profit by Category')\n",
    "plt.xlabel('Category')\n",
    "plt.ylabel('Average Profit ($)')\n",
    "plt.xticks(rotation=45)\n",
    "plt.show()"
   ]
  }
 ],
 "metadata": {
  "kernelspec": {
   "display_name": "Python 3",
   "language": "python",
   "name": "python3"
  },
  "language_info": {
   "codemirror_mode": {
    "name": "ipython",
    "version": 3
   },
   "file_extension": ".py",
   "mimetype": "text/x-python",
   "name": "python",
   "nbconvert_exporter": "python",
   "pygments_lexer": "ipython3",
   "version": "3.8.5"
  }
 },
 "nbformat": 4,
 "nbformat_minor": 4
}
